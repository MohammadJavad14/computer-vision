{
  "nbformat": 4,
  "nbformat_minor": 5,
  "metadata": {
    "kernelspec": {
      "display_name": "Python 3 (ipykernel)",
      "language": "python",
      "name": "python3"
    },
    "language_info": {
      "codemirror_mode": {
        "name": "ipython",
        "version": 3
      },
      "file_extension": ".py",
      "mimetype": "text/x-python",
      "name": "python",
      "nbconvert_exporter": "python",
      "pygments_lexer": "ipython3",
      "version": "3.8.10"
    },
    "colab": {
      "name": "Keras_1.ipynb",
      "provenance": [],
      "include_colab_link": true
    }
  },
  "cells": [
    {
      "cell_type": "markdown",
      "metadata": {
        "id": "view-in-github",
        "colab_type": "text"
      },
      "source": [
        "<a href=\"https://colab.research.google.com/github/MohammadJavad14/computer-vision/blob/main/Keras_MNIST.ipynb\" target=\"_parent\"><img src=\"https://colab.research.google.com/assets/colab-badge.svg\" alt=\"Open In Colab\"/></a>"
      ]
    },
    {
      "cell_type": "code",
      "metadata": {
        "id": "aa8c216d-2bc7-43d8-bc08-4dacb9fd5cea"
      },
      "source": [
        "from keras.datasets import mnist"
      ],
      "id": "aa8c216d-2bc7-43d8-bc08-4dacb9fd5cea",
      "execution_count": null,
      "outputs": []
    },
    {
      "cell_type": "code",
      "metadata": {
        "id": "923cb08d-92c3-43ef-9f85-0155a4ca5d34"
      },
      "source": [
        "(x_train,y_train),(x_test,y_test) = mnist.load_data()"
      ],
      "id": "923cb08d-92c3-43ef-9f85-0155a4ca5d34",
      "execution_count": null,
      "outputs": []
    },
    {
      "cell_type": "code",
      "metadata": {
        "id": "7bc95582-a352-4f3a-9141-4cd189ad261d"
      },
      "source": [
        "import matplotlib.pyplot as plt\n",
        "%matplotlib inline"
      ],
      "id": "7bc95582-a352-4f3a-9141-4cd189ad261d",
      "execution_count": null,
      "outputs": []
    },
    {
      "cell_type": "code",
      "metadata": {
        "id": "b8e42cfe-d0ba-4bf7-a7e4-275861b04f47",
        "outputId": "ae72fe83-e0bb-43a8-d77f-f2e58dbcdd1d"
      },
      "source": [
        "x_train.shape"
      ],
      "id": "b8e42cfe-d0ba-4bf7-a7e4-275861b04f47",
      "execution_count": null,
      "outputs": [
        {
          "data": {
            "text/plain": [
              "(60000, 28, 28)"
            ]
          },
          "execution_count": 7,
          "metadata": {},
          "output_type": "execute_result"
        }
      ]
    },
    {
      "cell_type": "code",
      "metadata": {
        "id": "f4e68bcb-b63d-4003-a4e8-49c6f56b9bc9"
      },
      "source": [
        "single_image = x_train[0]"
      ],
      "id": "f4e68bcb-b63d-4003-a4e8-49c6f56b9bc9",
      "execution_count": null,
      "outputs": []
    },
    {
      "cell_type": "code",
      "metadata": {
        "id": "b17de606-b2cc-4c4d-be18-fbabac66e579",
        "outputId": "5b47f6a1-4189-476a-bfb8-d66bf8331afe"
      },
      "source": [
        "plt.imshow(single_image,cmap='gray_r')"
      ],
      "id": "b17de606-b2cc-4c4d-be18-fbabac66e579",
      "execution_count": null,
      "outputs": [
        {
          "data": {
            "text/plain": [
              "<matplotlib.image.AxesImage at 0x7f6eaf324400>"
            ]
          },
          "execution_count": 11,
          "metadata": {},
          "output_type": "execute_result"
        },
        {
          "data": {
            "image/png": "[encoded data removed]",
            "text/plain": [
              "<Figure size 432x288 with 1 Axes>"
            ]
          },
          "metadata": {
            "needs_background": "light"
          },
          "output_type": "display_data"
        }
      ]
    },
    {
      "cell_type": "code",
      "metadata": {
        "id": "6066f5e1-7e36-469b-9f4b-c5378e8fe440",
        "outputId": "0637ea0e-a6ca-4773-d347-e17ebf59328b"
      },
      "source": [
        "y_train"
      ],
      "id": "6066f5e1-7e36-469b-9f4b-c5378e8fe440",
      "execution_count": null,
      "outputs": [
        {
          "data": {
            "text/plain": [
              "array([5, 0, 4, ..., 5, 6, 8], dtype=uint8)"
            ]
          },
          "execution_count": 12,
          "metadata": {},
          "output_type": "execute_result"
        }
      ]
    },
    {
      "cell_type": "code",
      "metadata": {
        "id": "4cba405d-f488-40ab-aa43-8fa8e3280912",
        "outputId": "c3da0dca-76a3-405a-a533-caa5abc90c78"
      },
      "source": [
        "len(y_train)"
      ],
      "id": "4cba405d-f488-40ab-aa43-8fa8e3280912",
      "execution_count": null,
      "outputs": [
        {
          "data": {
            "text/plain": [
              "60000"
            ]
          },
          "execution_count": 13,
          "metadata": {},
          "output_type": "execute_result"
        }
      ]
    },
    {
      "cell_type": "code",
      "metadata": {
        "id": "66f9f70e-2010-4ce1-b63b-21a303a6b8c7",
        "outputId": "dded87d4-9609-4093-9ff2-00c159854ead"
      },
      "source": [
        "y_train.shape"
      ],
      "id": "66f9f70e-2010-4ce1-b63b-21a303a6b8c7",
      "execution_count": null,
      "outputs": [
        {
          "data": {
            "text/plain": [
              "(60000,)"
            ]
          },
          "execution_count": 14,
          "metadata": {},
          "output_type": "execute_result"
        }
      ]
    },
    {
      "cell_type": "code",
      "metadata": {
        "id": "9003c96d-03e2-4ad5-a92c-9a60a78cab18"
      },
      "source": [
        "from keras.utils.np_utils import to_categorical"
      ],
      "id": "9003c96d-03e2-4ad5-a92c-9a60a78cab18",
      "execution_count": null,
      "outputs": []
    },
    {
      "cell_type": "code",
      "metadata": {
        "id": "c5dd0b72-d734-4f56-884d-abb53d5f0fcb"
      },
      "source": [
        "y_cat_test = to_categorical(y_test,10)\n",
        "y_cat_train = to_categorical(y_train,10)"
      ],
      "id": "c5dd0b72-d734-4f56-884d-abb53d5f0fcb",
      "execution_count": null,
      "outputs": []
    },
    {
      "cell_type": "code",
      "metadata": {
        "id": "e4efde8f-fb1c-401e-8b26-a46cb13fe5d7",
        "outputId": "a66f69fe-f8b1-42e7-d39c-22cc302e325c"
      },
      "source": [
        "y_cat_test"
      ],
      "id": "e4efde8f-fb1c-401e-8b26-a46cb13fe5d7",
      "execution_count": null,
      "outputs": [
        {
          "data": {
            "text/plain": [
              "array([[0., 0., 0., ..., 1., 0., 0.],\n",
              "       [0., 0., 1., ..., 0., 0., 0.],\n",
              "       [0., 1., 0., ..., 0., 0., 0.],\n",
              "       ...,\n",
              "       [0., 0., 0., ..., 0., 0., 0.],\n",
              "       [0., 0., 0., ..., 0., 0., 0.],\n",
              "       [0., 0., 0., ..., 0., 0., 0.]], dtype=float32)"
            ]
          },
          "execution_count": 17,
          "metadata": {},
          "output_type": "execute_result"
        }
      ]
    },
    {
      "cell_type": "code",
      "metadata": {
        "id": "ba7f1995-ca8a-4cbf-8a9a-aa2e794bee3d",
        "outputId": "c96aeff6-0e12-4048-b097-9d2a5e8e58c4"
      },
      "source": [
        "y_cat_train[0]"
      ],
      "id": "ba7f1995-ca8a-4cbf-8a9a-aa2e794bee3d",
      "execution_count": null,
      "outputs": [
        {
          "data": {
            "text/plain": [
              "array([0., 0., 0., 0., 0., 1., 0., 0., 0., 0.], dtype=float32)"
            ]
          },
          "execution_count": 18,
          "metadata": {},
          "output_type": "execute_result"
        }
      ]
    },
    {
      "cell_type": "code",
      "metadata": {
        "id": "c3d16d8b-3c26-4a2f-a442-fdc7b4fbb658",
        "outputId": "2d1c280e-cf03-4109-cf4f-0773d7e8d0c9"
      },
      "source": [
        "single_image.max()"
      ],
      "id": "c3d16d8b-3c26-4a2f-a442-fdc7b4fbb658",
      "execution_count": null,
      "outputs": [
        {
          "data": {
            "text/plain": [
              "255"
            ]
          },
          "execution_count": 20,
          "metadata": {},
          "output_type": "execute_result"
        }
      ]
    },
    {
      "cell_type": "code",
      "metadata": {
        "id": "c862fda0-752f-4ae5-b973-c226b55bd58b"
      },
      "source": [
        "x_train = x_train/x_train.max()"
      ],
      "id": "c862fda0-752f-4ae5-b973-c226b55bd58b",
      "execution_count": null,
      "outputs": []
    },
    {
      "cell_type": "code",
      "metadata": {
        "id": "d690607b-7e9d-4053-a496-2fb54f65f439"
      },
      "source": [
        "x_test = x_test / x_test.max()"
      ],
      "id": "d690607b-7e9d-4053-a496-2fb54f65f439",
      "execution_count": null,
      "outputs": []
    },
    {
      "cell_type": "code",
      "metadata": {
        "id": "8bce955a-77ad-4eb3-8d89-9358a0e0c981"
      },
      "source": [
        "scaled_image = x_train[0]"
      ],
      "id": "8bce955a-77ad-4eb3-8d89-9358a0e0c981",
      "execution_count": null,
      "outputs": []
    },
    {
      "cell_type": "code",
      "metadata": {
        "id": "ceca9b7b-e3c3-4870-b2e5-c98da68754e2",
        "outputId": "5d6a531b-ac89-46d4-97c4-1611679d65cf"
      },
      "source": [
        "scaled_image.max()"
      ],
      "id": "ceca9b7b-e3c3-4870-b2e5-c98da68754e2",
      "execution_count": null,
      "outputs": [
        {
          "data": {
            "text/plain": [
              "1.0"
            ]
          },
          "execution_count": 24,
          "metadata": {},
          "output_type": "execute_result"
        }
      ]
    },
    {
      "cell_type": "code",
      "metadata": {
        "id": "cb62da9d-03cb-44a6-af08-a7f8918020bd",
        "outputId": "2fb71b9e-31a1-4559-e419-5c5f16dedeff"
      },
      "source": [
        "plt.imshow(scaled_image,cmap='gray_r')"
      ],
      "id": "cb62da9d-03cb-44a6-af08-a7f8918020bd",
      "execution_count": null,
      "outputs": [
        {
          "data": {
            "text/plain": [
              "<matplotlib.image.AxesImage at 0x7f6ea6bfd8e0>"
            ]
          },
          "execution_count": 25,
          "metadata": {},
          "output_type": "execute_result"
        },
        {
          "data": {
            "image/png": "[encoded data removed]",
            "text/plain": [
              "<Figure size 432x288 with 1 Axes>"
            ]
          },
          "metadata": {
            "needs_background": "light"
          },
          "output_type": "display_data"
        }
      ]
    },
    {
      "cell_type": "code",
      "metadata": {
        "id": "8f8515db-b692-4b09-a040-9beba39a1e6e",
        "outputId": "48bf32f5-e51c-4c76-c157-a13c88ebc1cd"
      },
      "source": [
        "x_train.shape"
      ],
      "id": "8f8515db-b692-4b09-a040-9beba39a1e6e",
      "execution_count": null,
      "outputs": [
        {
          "data": {
            "text/plain": [
              "(60000, 28, 28)"
            ]
          },
          "execution_count": 26,
          "metadata": {},
          "output_type": "execute_result"
        }
      ]
    },
    {
      "cell_type": "code",
      "metadata": {
        "id": "3a90e2fd-ced4-4939-b2d4-b6e47da090bb"
      },
      "source": [
        "x_train = x_train.reshape(60000,28,28,1)"
      ],
      "id": "3a90e2fd-ced4-4939-b2d4-b6e47da090bb",
      "execution_count": null,
      "outputs": []
    },
    {
      "cell_type": "code",
      "metadata": {
        "id": "1070deff-c496-4d0b-a730-f6826c65b25b",
        "outputId": "84795b22-6ada-4a0b-d891-aed755c6d365"
      },
      "source": [
        "x_train.shape"
      ],
      "id": "1070deff-c496-4d0b-a730-f6826c65b25b",
      "execution_count": null,
      "outputs": [
        {
          "data": {
            "text/plain": [
              "(60000, 28, 28, 1)"
            ]
          },
          "execution_count": 28,
          "metadata": {},
          "output_type": "execute_result"
        }
      ]
    },
    {
      "cell_type": "code",
      "metadata": {
        "id": "4234a60b-81bb-43c5-8747-6dac9164a8d7"
      },
      "source": [
        "x_test = x_test.reshape(10000,28,28,1)"
      ],
      "id": "4234a60b-81bb-43c5-8747-6dac9164a8d7",
      "execution_count": null,
      "outputs": []
    },
    {
      "cell_type": "code",
      "metadata": {
        "id": "594df2b9-9e27-482d-a7dc-9f4bbda5252b",
        "outputId": "5a7ec878-dfba-480c-fbdb-6decc45b571d"
      },
      "source": [
        "x_test.shape"
      ],
      "id": "594df2b9-9e27-482d-a7dc-9f4bbda5252b",
      "execution_count": null,
      "outputs": [
        {
          "data": {
            "text/plain": [
              "(10000, 28, 28, 1)"
            ]
          },
          "execution_count": 30,
          "metadata": {},
          "output_type": "execute_result"
        }
      ]
    },
    {
      "cell_type": "code",
      "metadata": {
        "id": "6fda3b08-00e9-459a-9be7-04797b57bc25"
      },
      "source": [
        "from keras.models import Sequential"
      ],
      "id": "6fda3b08-00e9-459a-9be7-04797b57bc25",
      "execution_count": null,
      "outputs": []
    },
    {
      "cell_type": "code",
      "metadata": {
        "id": "8605a156-ee73-42be-8fc9-3e3839701afb"
      },
      "source": [
        "from keras.layers import Dense,Conv2D,MaxPool2D,Flatten"
      ],
      "id": "8605a156-ee73-42be-8fc9-3e3839701afb",
      "execution_count": null,
      "outputs": []
    },
    {
      "cell_type": "code",
      "metadata": {
        "id": "cfdc3901-3c8f-4aad-af48-37c17ace1eb1"
      },
      "source": [
        "model = Sequential()\n",
        "\n",
        "model.add(Conv2D(filters=32,kernel_size=(4,4),input_shape=(28,28,1),activation='relu'))\n",
        "\n",
        "model.add(MaxPool2D(pool_size=(2,2)))\n",
        "\n",
        "model.add(Flatten())\n",
        "\n",
        "model.add(Dense(128,activation='relu'))\n",
        "\n",
        "model.add(Dense(10,activation='softmax'))\n",
        "\n",
        "model.compile(loss='categorical_crossentropy', optimizer='rmsprop', metrics=['accuracy'])"
      ],
      "id": "cfdc3901-3c8f-4aad-af48-37c17ace1eb1",
      "execution_count": null,
      "outputs": []
    },
    {
      "cell_type": "code",
      "metadata": {
        "id": "c392aaf6-bd97-4f01-8696-e2b32e845d7f",
        "outputId": "fc06ffd2-1c73-4461-c4f5-2d1a3a0c2e0c"
      },
      "source": [
        "model.summary()"
      ],
      "id": "c392aaf6-bd97-4f01-8696-e2b32e845d7f",
      "execution_count": null,
      "outputs": [
        {
          "name": "stdout",
          "output_type": "stream",
          "text": [
            "Model: \"sequential_1\"\n",
            "_________________________________________________________________\n",
            "Layer (type)                 Output Shape              Param #   \n",
            "=================================================================\n",
            "conv2d_1 (Conv2D)            (None, 25, 25, 32)        544       \n",
            "_________________________________________________________________\n",
            "max_pooling2d (MaxPooling2D) (None, 12, 12, 32)        0         \n",
            "_________________________________________________________________\n",
            "flatten (Flatten)            (None, 4608)              0         \n",
            "_________________________________________________________________\n",
            "dense (Dense)                (None, 128)               589952    \n",
            "_________________________________________________________________\n",
            "dense_1 (Dense)              (None, 10)                1290      \n",
            "=================================================================\n",
            "Total params: 591,786\n",
            "Trainable params: 591,786\n",
            "Non-trainable params: 0\n",
            "_________________________________________________________________\n"
          ]
        }
      ]
    },
    {
      "cell_type": "code",
      "metadata": {
        "id": "a1fc3626-d5ff-4a7b-b413-7637126f588b",
        "outputId": "29be488c-5e79-4f7c-c6d2-71d59450209c"
      },
      "source": [
        "model.fit(x_train,y_cat_train,epochs=2)"
      ],
      "id": "a1fc3626-d5ff-4a7b-b413-7637126f588b",
      "execution_count": null,
      "outputs": [
        {
          "name": "stderr",
          "output_type": "stream",
          "text": [
            "2021-10-15 19:02:32.802384: I tensorflow/compiler/mlir/mlir_graph_optimization_pass.cc:185] None of the MLIR Optimization Passes are enabled (registered 2)\n"
          ]
        },
        {
          "name": "stdout",
          "output_type": "stream",
          "text": [
            "Epoch 1/2\n",
            "1875/1875 [==============================] - 14s 8ms/step - loss: 0.1376 - accuracy: 0.9585\n",
            "Epoch 2/2\n",
            "1875/1875 [==============================] - 14s 8ms/step - loss: 0.0492 - accuracy: 0.9851\n"
          ]
        },
        {
          "data": {
            "text/plain": [
              "<keras.callbacks.History at 0x7f6e5c16e910>"
            ]
          },
          "execution_count": 36,
          "metadata": {},
          "output_type": "execute_result"
        }
      ]
    },
    {
      "cell_type": "code",
      "metadata": {
        "id": "e0d8c402-a201-4fc6-8415-32d171db24a1",
        "outputId": "9a7630cb-0368-4044-d535-95d3a4f1970e"
      },
      "source": [
        "model.metrics_names"
      ],
      "id": "e0d8c402-a201-4fc6-8415-32d171db24a1",
      "execution_count": null,
      "outputs": [
        {
          "data": {
            "text/plain": [
              "['loss', 'accuracy']"
            ]
          },
          "execution_count": 37,
          "metadata": {},
          "output_type": "execute_result"
        }
      ]
    },
    {
      "cell_type": "code",
      "metadata": {
        "id": "a6265407-f7cc-4ab6-90b1-27c486e5d431",
        "outputId": "1e4d2657-72c1-4f5a-a336-18618babda19"
      },
      "source": [
        "model.evaluate(x_test,y_cat_test)"
      ],
      "id": "a6265407-f7cc-4ab6-90b1-27c486e5d431",
      "execution_count": null,
      "outputs": [
        {
          "name": "stdout",
          "output_type": "stream",
          "text": [
            "313/313 [==============================] - 1s 1ms/step - loss: 0.0427 - accuracy: 0.9856\n"
          ]
        },
        {
          "data": {
            "text/plain": [
              "[0.0427294597029686, 0.9855999946594238]"
            ]
          },
          "execution_count": 38,
          "metadata": {},
          "output_type": "execute_result"
        }
      ]
    },
    {
      "cell_type": "code",
      "metadata": {
        "id": "5197066b-dc51-4528-87ee-4daa3ed6551f"
      },
      "source": [
        "from sklearn.metrics import classification_report"
      ],
      "id": "5197066b-dc51-4528-87ee-4daa3ed6551f",
      "execution_count": null,
      "outputs": []
    },
    {
      "cell_type": "code",
      "metadata": {
        "id": "4cadea11-1094-41c3-ad0f-84bd52d26200"
      },
      "source": [
        "predictions = model.predict(x_test)"
      ],
      "id": "4cadea11-1094-41c3-ad0f-84bd52d26200",
      "execution_count": null,
      "outputs": []
    },
    {
      "cell_type": "code",
      "metadata": {
        "id": "07cee8f8-2c2e-4a55-b552-a7a40cf1f3a9",
        "outputId": "7ff4ecc2-a3f1-46ec-e24b-83782efb407f"
      },
      "source": [
        "y_cat_test"
      ],
      "id": "07cee8f8-2c2e-4a55-b552-a7a40cf1f3a9",
      "execution_count": null,
      "outputs": [
        {
          "data": {
            "text/plain": [
              "array([[0., 0., 0., ..., 1., 0., 0.],\n",
              "       [0., 0., 1., ..., 0., 0., 0.],\n",
              "       [0., 1., 0., ..., 0., 0., 0.],\n",
              "       ...,\n",
              "       [0., 0., 0., ..., 0., 0., 0.],\n",
              "       [0., 0., 0., ..., 0., 0., 0.],\n",
              "       [0., 0., 0., ..., 0., 0., 0.]], dtype=float32)"
            ]
          },
          "execution_count": 47,
          "metadata": {},
          "output_type": "execute_result"
        }
      ]
    },
    {
      "cell_type": "code",
      "metadata": {
        "id": "6693e8d3-1c65-40ff-af6d-21b4889c265b"
      },
      "source": [
        "import numpy as np\n",
        "predictions = np.round(predictions)"
      ],
      "id": "6693e8d3-1c65-40ff-af6d-21b4889c265b",
      "execution_count": null,
      "outputs": []
    },
    {
      "cell_type": "code",
      "metadata": {
        "id": "7d0a0e82-e360-4f44-b2f4-089d0658d9f6",
        "outputId": "ae6bc09a-80ef-4fc4-b1a8-b21a306d5ed3"
      },
      "source": [
        "print(classification_report(y_cat_test,predictions))"
      ],
      "id": "7d0a0e82-e360-4f44-b2f4-089d0658d9f6",
      "execution_count": null,
      "outputs": [
        {
          "name": "stdout",
          "output_type": "stream",
          "text": [
            "              precision    recall  f1-score   support\n",
            "\n",
            "           0       0.99      0.99      0.99       980\n",
            "           1       1.00      0.98      0.99      1135\n",
            "           2       0.98      0.99      0.98      1032\n",
            "           3       0.99      0.98      0.99      1010\n",
            "           4       0.99      0.99      0.99       982\n",
            "           5       0.97      0.99      0.98       892\n",
            "           6       0.99      0.98      0.99       958\n",
            "           7       0.99      0.99      0.99      1028\n",
            "           8       0.98      0.98      0.98       974\n",
            "           9       0.99      0.98      0.98      1009\n",
            "\n",
            "   micro avg       0.99      0.98      0.99     10000\n",
            "   macro avg       0.99      0.98      0.99     10000\n",
            "weighted avg       0.99      0.98      0.99     10000\n",
            " samples avg       0.98      0.98      0.98     10000\n",
            "\n"
          ]
        },
        {
          "name": "stderr",
          "output_type": "stream",
          "text": [
            "/home/mohammad/cv/lib/python3.8/site-packages/sklearn/metrics/_classification.py:1308: UndefinedMetricWarning: Precision and F-score are ill-defined and being set to 0.0 in samples with no predicted labels. Use `zero_division` parameter to control this behavior.\n",
            "  _warn_prf(average, modifier, msg_start, len(result))\n"
          ]
        }
      ]
    },
    {
      "cell_type": "code",
      "metadata": {
        "id": "164d71ad-9a8d-4f35-8339-1d5b440a6bbe"
      },
      "source": [
        ""
      ],
      "id": "164d71ad-9a8d-4f35-8339-1d5b440a6bbe",
      "execution_count": null,
      "outputs": []
    }
  ]
}