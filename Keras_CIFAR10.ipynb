{
  "nbformat": 4,
  "nbformat_minor": 5,
  "metadata": {
    "kernelspec": {
      "display_name": "Python 3 (ipykernel)",
      "language": "python",
      "name": "python3"
    },
    "language_info": {
      "codemirror_mode": {
        "name": "ipython",
        "version": 3
      },
      "file_extension": ".py",
      "mimetype": "text/x-python",
      "name": "python",
      "nbconvert_exporter": "python",
      "pygments_lexer": "ipython3",
      "version": "3.8.10"
    },
    "colab": {
      "name": "Keras_CIFAR10.ipynb",
      "provenance": [],
      "include_colab_link": true
    }
  },
  "cells": [
    {
      "cell_type": "markdown",
      "metadata": {
        "id": "view-in-github",
        "colab_type": "text"
      },
      "source": [
        "<a href=\"https://colab.research.google.com/github/MohammadJavad14/computer-vision/blob/main/Keras_CIFAR10.ipynb\" target=\"_parent\"><img src=\"https://colab.research.google.com/assets/colab-badge.svg\" alt=\"Open In Colab\"/></a>"
      ]
    },
    {
      "cell_type": "code",
      "metadata": {
        "id": "ce77946f-cfe9-4a72-9926-1de54648b1d8"
      },
      "source": [
        "from keras.datasets import cifar10"
      ],
      "id": "ce77946f-cfe9-4a72-9926-1de54648b1d8",
      "execution_count": null,
      "outputs": []
    },
    {
      "cell_type": "code",
      "metadata": {
        "id": "f051d3e0-031a-4feb-9ba0-ef3509270c67",
        "outputId": "7e54155b-346d-418b-e7ee-2bab0c5bddc5"
      },
      "source": [
        "(x_train,y_train),(x_test,y_test) = cifar10.load_data()"
      ],
      "id": "f051d3e0-031a-4feb-9ba0-ef3509270c67",
      "execution_count": null,
      "outputs": [
        {
          "name": "stdout",
          "output_type": "stream",
          "text": [
            "Downloading data from https://www.cs.toronto.edu/~kriz/cifar-10-python.tar.gz\n",
            "170500096/170498071 [==============================] - 52s 0us/step\n",
            "170508288/170498071 [==============================] - 52s 0us/step\n"
          ]
        }
      ]
    },
    {
      "cell_type": "code",
      "metadata": {
        "id": "c920279b-8f34-4a63-9c6f-a5df86eb7dc8",
        "outputId": "8e7df203-7b75-4f9c-c89a-5c0b6f91edce"
      },
      "source": [
        "x_train.shape"
      ],
      "id": "c920279b-8f34-4a63-9c6f-a5df86eb7dc8",
      "execution_count": null,
      "outputs": [
        {
          "data": {
            "text/plain": [
              "(50000, 32, 32, 3)"
            ]
          },
          "execution_count": 3,
          "metadata": {},
          "output_type": "execute_result"
        }
      ]
    },
    {
      "cell_type": "code",
      "metadata": {
        "id": "59efb7ad-0c11-4342-9b91-c011b062ab52",
        "outputId": "ca923d2a-cbbe-4163-a119-401f9799ef0b"
      },
      "source": [
        "x_train[0].shape"
      ],
      "id": "59efb7ad-0c11-4342-9b91-c011b062ab52",
      "execution_count": null,
      "outputs": [
        {
          "data": {
            "text/plain": [
              "(32, 32, 3)"
            ]
          },
          "execution_count": 5,
          "metadata": {},
          "output_type": "execute_result"
        }
      ]
    },
    {
      "cell_type": "code",
      "metadata": {
        "id": "eee5893b-5bf9-478e-a318-3cc9bd2347ea"
      },
      "source": [
        "import matplotlib.pyplot as plt"
      ],
      "id": "eee5893b-5bf9-478e-a318-3cc9bd2347ea",
      "execution_count": null,
      "outputs": []
    },
    {
      "cell_type": "code",
      "metadata": {
        "id": "609070a2-bc3a-49e4-aab2-c1932670bf91",
        "outputId": "dbc45ebf-beac-4728-88a3-3067e2006d79"
      },
      "source": [
        "plt.imshow(x_train[12])"
      ],
      "id": "609070a2-bc3a-49e4-aab2-c1932670bf91",
      "execution_count": null,
      "outputs": [
        {
          "data": {
            "text/plain": [
              "<matplotlib.image.AxesImage at 0x7fcff96c9b50>"
            ]
          },
          "execution_count": 8,
          "metadata": {},
          "output_type": "execute_result"
        },
        {
          "data": {
            "image/png": "[encoded data removed]",
            "text/plain": [
              "<Figure size 432x288 with 1 Axes>"
            ]
          },
          "metadata": {
            "needs_background": "light"
          },
          "output_type": "display_data"
        }
      ]
    },
    {
      "cell_type": "code",
      "metadata": {
        "id": "d95f63fc-8d3e-4f6e-8705-7f5a284229dd",
        "outputId": "69713a05-fb11-43ef-91f5-5582d9ca2723"
      },
      "source": [
        "x_train.max()"
      ],
      "id": "d95f63fc-8d3e-4f6e-8705-7f5a284229dd",
      "execution_count": null,
      "outputs": [
        {
          "data": {
            "text/plain": [
              "255"
            ]
          },
          "execution_count": 9,
          "metadata": {},
          "output_type": "execute_result"
        }
      ]
    },
    {
      "cell_type": "code",
      "metadata": {
        "id": "7fac23c4-578e-4857-8d14-4ae084f7495c"
      },
      "source": [
        "x_train = x_train / 255"
      ],
      "id": "7fac23c4-578e-4857-8d14-4ae084f7495c",
      "execution_count": null,
      "outputs": []
    },
    {
      "cell_type": "code",
      "metadata": {
        "id": "508e18d4-9af8-4c84-91d9-2a269c6bf05d"
      },
      "source": [
        "x_test = x_test / 255"
      ],
      "id": "508e18d4-9af8-4c84-91d9-2a269c6bf05d",
      "execution_count": null,
      "outputs": []
    },
    {
      "cell_type": "code",
      "metadata": {
        "id": "6b0314be-ee3a-4467-9053-6e26e36d078c",
        "outputId": "536a58c5-e261-4a95-e713-b4c2d6222885"
      },
      "source": [
        "x_test.shape"
      ],
      "id": "6b0314be-ee3a-4467-9053-6e26e36d078c",
      "execution_count": null,
      "outputs": [
        {
          "data": {
            "text/plain": [
              "(10000, 32, 32, 3)"
            ]
          },
          "execution_count": 12,
          "metadata": {},
          "output_type": "execute_result"
        }
      ]
    },
    {
      "cell_type": "code",
      "metadata": {
        "id": "988a2286-a301-480a-8246-079071bf7197",
        "outputId": "6121ab7c-66b8-4d4c-f89d-8691f74e7dc2"
      },
      "source": [
        "y_train"
      ],
      "id": "988a2286-a301-480a-8246-079071bf7197",
      "execution_count": null,
      "outputs": [
        {
          "data": {
            "text/plain": [
              "array([[6],\n",
              "       [9],\n",
              "       [9],\n",
              "       ...,\n",
              "       [9],\n",
              "       [1],\n",
              "       [1]], dtype=uint8)"
            ]
          },
          "execution_count": 13,
          "metadata": {},
          "output_type": "execute_result"
        }
      ]
    },
    {
      "cell_type": "code",
      "metadata": {
        "id": "4a55a55c-b0e3-49a9-9bfa-115ea0fcec02"
      },
      "source": [
        "from keras.utils.np_utils import to_categorical"
      ],
      "id": "4a55a55c-b0e3-49a9-9bfa-115ea0fcec02",
      "execution_count": null,
      "outputs": []
    },
    {
      "cell_type": "code",
      "metadata": {
        "id": "4daa6edf-8a74-45a6-be37-01b62a07adab"
      },
      "source": [
        "y_cat_train = to_categorical(y_train,10)\n",
        "y_cat_test = to_categorical(y_test,10)"
      ],
      "id": "4daa6edf-8a74-45a6-be37-01b62a07adab",
      "execution_count": null,
      "outputs": []
    },
    {
      "cell_type": "code",
      "metadata": {
        "id": "372beecd-5bab-44cb-aa68-13601ffa9b71"
      },
      "source": [
        "from keras.models import Sequential"
      ],
      "id": "372beecd-5bab-44cb-aa68-13601ffa9b71",
      "execution_count": null,
      "outputs": []
    },
    {
      "cell_type": "code",
      "metadata": {
        "id": "fe7b687c-e50c-480d-aa3e-7bc1a218d674"
      },
      "source": [
        "from keras.layers import Dense,Conv2D,MaxPool2D,Flatten"
      ],
      "id": "fe7b687c-e50c-480d-aa3e-7bc1a218d674",
      "execution_count": null,
      "outputs": []
    },
    {
      "cell_type": "code",
      "metadata": {
        "id": "46d7a17d-0edc-4c7e-b87b-65ec5793a042"
      },
      "source": [
        "model = Sequential()\n",
        "\n",
        "model.add(Conv2D(filters=32,kernel_size=(4,4),input_shape=(32,32,3),activation='relu'))\n",
        "model.add(MaxPool2D(pool_size=(2,2)))\n",
        "\n",
        "model.add(Conv2D(filters=32,kernel_size=(4,4),input_shape=(32,32,3),activation='relu'))\n",
        "model.add(MaxPool2D(pool_size=(2,2)))\n",
        "\n",
        "model.add(Flatten())\n",
        "\n",
        "model.add(Dense(256,activation='relu'))\n",
        "\n",
        "model.add(Dense(10,activation='softmax'))\n",
        "\n",
        "model.compile(loss='categorical_crossentropy', optimizer='rmsprop', metrics=['accuracy'])"
      ],
      "id": "46d7a17d-0edc-4c7e-b87b-65ec5793a042",
      "execution_count": null,
      "outputs": []
    },
    {
      "cell_type": "code",
      "metadata": {
        "id": "5b58a04b-d35d-4ff3-b101-92c0510ef447",
        "outputId": "b6f1c247-c459-470a-a4d4-ccf310be9bb5"
      },
      "source": [
        "model.summary()"
      ],
      "id": "5b58a04b-d35d-4ff3-b101-92c0510ef447",
      "execution_count": null,
      "outputs": [
        {
          "name": "stdout",
          "output_type": "stream",
          "text": [
            "Model: \"sequential_2\"\n",
            "_________________________________________________________________\n",
            "Layer (type)                 Output Shape              Param #   \n",
            "=================================================================\n",
            "conv2d_2 (Conv2D)            (None, 29, 29, 32)        1568      \n",
            "_________________________________________________________________\n",
            "max_pooling2d_2 (MaxPooling2 (None, 14, 14, 32)        0         \n",
            "_________________________________________________________________\n",
            "conv2d_3 (Conv2D)            (None, 11, 11, 32)        16416     \n",
            "_________________________________________________________________\n",
            "max_pooling2d_3 (MaxPooling2 (None, 5, 5, 32)          0         \n",
            "_________________________________________________________________\n",
            "flatten_1 (Flatten)          (None, 800)               0         \n",
            "_________________________________________________________________\n",
            "dense_2 (Dense)              (None, 256)               205056    \n",
            "_________________________________________________________________\n",
            "dense_3 (Dense)              (None, 10)                2570      \n",
            "=================================================================\n",
            "Total params: 225,610\n",
            "Trainable params: 225,610\n",
            "Non-trainable params: 0\n",
            "_________________________________________________________________\n"
          ]
        }
      ]
    },
    {
      "cell_type": "code",
      "metadata": {
        "id": "5e71dfb1-e1c1-44e3-8c5a-2667ff1e3ce4",
        "outputId": "ae50ede4-be40-4c3c-e1de-1cc0ac91cad6"
      },
      "source": [
        "model.fit(x_train,y_cat_train,verbose=1,epochs=10)"
      ],
      "id": "5e71dfb1-e1c1-44e3-8c5a-2667ff1e3ce4",
      "execution_count": null,
      "outputs": [
        {
          "name": "stderr",
          "output_type": "stream",
          "text": [
            "2021-10-15 19:50:07.435807: I tensorflow/compiler/mlir/mlir_graph_optimization_pass.cc:185] None of the MLIR Optimization Passes are enabled (registered 2)\n"
          ]
        },
        {
          "name": "stdout",
          "output_type": "stream",
          "text": [
            "Epoch 1/10\n",
            "1563/1563 [==============================] - 18s 11ms/step - loss: 1.5046 - accuracy: 0.4602\n",
            "Epoch 2/10\n",
            "1563/1563 [==============================] - 17s 11ms/step - loss: 1.1489 - accuracy: 0.6008\n",
            "Epoch 3/10\n",
            "1563/1563 [==============================] - 17s 11ms/step - loss: 1.0038 - accuracy: 0.6527\n",
            "Epoch 4/10\n",
            "1563/1563 [==============================] - 17s 11ms/step - loss: 0.9017 - accuracy: 0.6909\n",
            "Epoch 5/10\n",
            "1563/1563 [==============================] - 17s 11ms/step - loss: 0.8192 - accuracy: 0.7186\n",
            "Epoch 6/10\n",
            "1563/1563 [==============================] - 18s 11ms/step - loss: 0.7607 - accuracy: 0.7397\n",
            "Epoch 7/10\n",
            "1563/1563 [==============================] - 18s 11ms/step - loss: 0.7064 - accuracy: 0.7597\n",
            "Epoch 8/10\n",
            "1563/1563 [==============================] - 18s 11ms/step - loss: 0.6605 - accuracy: 0.7772\n",
            "Epoch 9/10\n",
            "1563/1563 [==============================] - 18s 11ms/step - loss: 0.6176 - accuracy: 0.7904\n",
            "Epoch 10/10\n",
            "1563/1563 [==============================] - 18s 11ms/step - loss: 0.5866 - accuracy: 0.8021\n"
          ]
        },
        {
          "data": {
            "text/plain": [
              "<keras.callbacks.History at 0x7fcf481cbb50>"
            ]
          },
          "execution_count": 24,
          "metadata": {},
          "output_type": "execute_result"
        }
      ]
    },
    {
      "cell_type": "code",
      "metadata": {
        "id": "a4111a0f-8eb2-4fa7-a503-e7d56be5f734",
        "outputId": "e2a0713d-5c01-4c7e-c707-91754b36492f"
      },
      "source": [
        "model.metrics_names"
      ],
      "id": "a4111a0f-8eb2-4fa7-a503-e7d56be5f734",
      "execution_count": null,
      "outputs": [
        {
          "data": {
            "text/plain": [
              "['loss', 'accuracy']"
            ]
          },
          "execution_count": 25,
          "metadata": {},
          "output_type": "execute_result"
        }
      ]
    },
    {
      "cell_type": "code",
      "metadata": {
        "id": "4312c5ae-73b9-4dd3-a827-ed69125fbb12",
        "outputId": "699fcea1-292d-454a-da57-d05dff4462ec"
      },
      "source": [
        "model.evaluate(x_test,y_cat_test)"
      ],
      "id": "4312c5ae-73b9-4dd3-a827-ed69125fbb12",
      "execution_count": null,
      "outputs": [
        {
          "name": "stdout",
          "output_type": "stream",
          "text": [
            "313/313 [==============================] - 1s 2ms/step - loss: 1.1879 - accuracy: 0.6402\n"
          ]
        },
        {
          "data": {
            "text/plain": [
              "[1.1879308223724365, 0.6402000188827515]"
            ]
          },
          "execution_count": 26,
          "metadata": {},
          "output_type": "execute_result"
        }
      ]
    },
    {
      "cell_type": "code",
      "metadata": {
        "id": "bd84ef87-e54a-47ef-91a9-50ecb44ae30f"
      },
      "source": [
        "from sklearn.metrics import classification_report"
      ],
      "id": "bd84ef87-e54a-47ef-91a9-50ecb44ae30f",
      "execution_count": null,
      "outputs": []
    },
    {
      "cell_type": "code",
      "metadata": {
        "id": "f75e4303-acce-44b7-a9bd-1c8e39a4d41d"
      },
      "source": [
        "predictions = model.predict(x_test)"
      ],
      "id": "f75e4303-acce-44b7-a9bd-1c8e39a4d41d",
      "execution_count": null,
      "outputs": []
    },
    {
      "cell_type": "code",
      "metadata": {
        "id": "af98b6c2-0e5a-4c37-8932-8606a6b3df00"
      },
      "source": [
        "import numpy as np\n",
        "predictions = np.round(predictions)"
      ],
      "id": "af98b6c2-0e5a-4c37-8932-8606a6b3df00",
      "execution_count": null,
      "outputs": []
    },
    {
      "cell_type": "code",
      "metadata": {
        "id": "4b94023b-6a07-4f38-9c9e-9bf4cbb19c50",
        "outputId": "212f5327-b4e3-45b9-f840-937500591207"
      },
      "source": [
        "print(classification_report(y_cat_test,predictions))"
      ],
      "id": "4b94023b-6a07-4f38-9c9e-9bf4cbb19c50",
      "execution_count": null,
      "outputs": [
        {
          "name": "stdout",
          "output_type": "stream",
          "text": [
            "              precision    recall  f1-score   support\n",
            "\n",
            "           0       0.80      0.52      0.63      1000\n",
            "           1       0.86      0.69      0.77      1000\n",
            "           2       0.67      0.40      0.50      1000\n",
            "           3       0.57      0.38      0.45      1000\n",
            "           4       0.60      0.65      0.62      1000\n",
            "           5       0.68      0.43      0.53      1000\n",
            "           6       0.61      0.82      0.70      1000\n",
            "           7       0.91      0.52      0.66      1000\n",
            "           8       0.70      0.79      0.74      1000\n",
            "           9       0.81      0.66      0.72      1000\n",
            "\n",
            "   micro avg       0.71      0.59      0.64     10000\n",
            "   macro avg       0.72      0.59      0.63     10000\n",
            "weighted avg       0.72      0.59      0.63     10000\n",
            " samples avg       0.59      0.59      0.59     10000\n",
            "\n"
          ]
        },
        {
          "name": "stderr",
          "output_type": "stream",
          "text": [
            "/home/mohammad/cv/lib/python3.8/site-packages/sklearn/metrics/_classification.py:1308: UndefinedMetricWarning: Precision and F-score are ill-defined and being set to 0.0 in samples with no predicted labels. Use `zero_division` parameter to control this behavior.\n",
            "  _warn_prf(average, modifier, msg_start, len(result))\n"
          ]
        }
      ]
    },
    {
      "cell_type": "code",
      "metadata": {
        "id": "5307272a-855f-4f0d-bc1c-184645a8cf5f"
      },
      "source": [
        ""
      ],
      "id": "5307272a-855f-4f0d-bc1c-184645a8cf5f",
      "execution_count": null,
      "outputs": []
    }
  ]
}